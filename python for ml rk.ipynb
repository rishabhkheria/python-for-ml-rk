{
 "cells": [
  {
   "cell_type": "markdown",
   "id": "aff43f76",
   "metadata": {},
   "source": [
    "# 1 original"
   ]
  },
  {
   "cell_type": "code",
   "execution_count": 2,
   "id": "4e5c6b76",
   "metadata": {},
   "outputs": [
    {
     "name": "stdout",
     "output_type": "stream",
     "text": [
      "  |   |  \n",
      "  |   |  \n",
      "  |   |  \n",
      "Enter move (0-8): 0\n",
      "Computer's move...\n",
      "X |   |  \n",
      "  | O |  \n",
      "  |   |  \n",
      "Enter move (0-8): 8\n",
      "Computer's move...\n",
      "X | O |  \n",
      "  | O |  \n",
      "  |   | X\n",
      "Enter move (0-8): 7\n",
      "Computer's move...\n",
      "X | O |  \n",
      "  | O |  \n",
      "O | X | X\n",
      "Enter move (0-8): 2\n",
      "Computer's move...\n",
      "X | O | X\n",
      "  | O | O\n",
      "O | X | X\n",
      "Enter move (0-8): 3\n",
      "Tie!\n"
     ]
    }
   ],
   "source": [
    "PLAYER, COMPUTER, EMPTY = \"X\", \"O\", \" \"\n",
    "board = [EMPTY] * 9\n",
    "\n",
    "def check_winner(p):\n",
    "    return any(board[a] == board[b] == board[c] == p for a, b, c in [(0,1,2),(3,4,5),(6,7,8),(0,3,6),(1,4,7),(2,5,8),(0,4,8),(2,4,6)])\n",
    "\n",
    "def dfs(turn):\n",
    "    if check_winner(COMPUTER): return 10\n",
    "    if check_winner(PLAYER): return -10\n",
    "    if EMPTY not in board: return 0\n",
    "    best = -1000 if turn else 1000\n",
    "    for i in range(9):\n",
    "        if board[i] == EMPTY:\n",
    "            board[i] = COMPUTER if turn else PLAYER\n",
    "            best = max(best, dfs(not turn)) if turn else min(best, dfs(not turn))\n",
    "            board[i] = EMPTY\n",
    "    return best\n",
    "    \n",
    "def find_best_move():\n",
    "    return max((i for i in range(9) if board[i] == EMPTY), \n",
    "              key = lambda i: (board.__setitem__(i, COMPUTER), v:=dfs(False),\n",
    "              board.__setitem__(i, EMPTY), v) [3], default=-1)\n",
    "\n",
    "def play_game():\n",
    "    while True:\n",
    "        print(\"\\n\".join(\" | \".join(board[i:i+3]) for i in range(0, 9, 3)))\n",
    "        p_move = int(input(\"Enter move (0-8): \"))\n",
    "        if board[p_move] != EMPTY: print(\"Invalid move! Try again.\"); continue\n",
    "        board[p_move] = PLAYER\n",
    "        if check_winner(PLAYER): print(\"Player wins!\"); break\n",
    "        if EMPTY not in board: print(\"Tie!\"); break\n",
    "        print(\"Computer's move...\")\n",
    "        board[find_best_move()] = COMPUTER\n",
    "        if check_winner(COMPUTER): print(\"Computer wins!\"); break\n",
    "        if EMPTY not in board: print(\"Tie!\"); break\n",
    "            \n",
    "play_game()"
   ]
  },
  {
   "cell_type": "markdown",
   "id": "c327ff1c",
   "metadata": {},
   "source": [
    "# 1 gpt v1"
   ]
  },
  {
   "cell_type": "code",
   "execution_count": 3,
   "id": "6154bba6",
   "metadata": {},
   "outputs": [
    {
     "name": "stdout",
     "output_type": "stream",
     "text": [
      "  |   |  \n",
      "  |   |  \n",
      "  |   |  \n",
      "\n",
      "Your move (0-8): 0\n",
      "Computer's move...\n",
      "X |   | O\n",
      "  |   |  \n",
      "  |   |  \n",
      "\n",
      "Your move (0-8): 3\n",
      "Computer's move...\n",
      "X |   | O\n",
      "X |   |  \n",
      "  |   | O\n",
      "\n",
      "Your move (0-8): 6\n",
      "X |   | O\n",
      "X |   |  \n",
      "X |   | O\n",
      "\n",
      "You win!\n"
     ]
    }
   ],
   "source": [
    "import random\n",
    "\n",
    "board = [\" \"] * 9\n",
    "PLAYER = \"X\"\n",
    "COMPUTER = \"O\"\n",
    "\n",
    "def print_board():\n",
    "    for i in range(0, 9, 3):\n",
    "        print(\" | \".join(board[i:i+3]))\n",
    "    print()\n",
    "\n",
    "def check_winner(p):\n",
    "    win_combos = [(0,1,2), (3,4,5), (6,7,8),\n",
    "                  (0,3,6), (1,4,7), (2,5,8),\n",
    "                  (0,4,8), (2,4,6)]\n",
    "    for a, b, c in win_combos:\n",
    "        if board[a] == board[b] == board[c] == p:\n",
    "            return True\n",
    "    return False\n",
    "\n",
    "def play_game():\n",
    "    while True:\n",
    "        print_board()\n",
    "        move = int(input(\"Your move (0-8): \"))\n",
    "        if board[move] != \" \":\n",
    "            print(\"Invalid! Try again.\")\n",
    "            continue\n",
    "        board[move] = PLAYER\n",
    "        if check_winner(PLAYER):\n",
    "            print_board()\n",
    "            print(\"You win!\")\n",
    "            break\n",
    "        if \" \" not in board:\n",
    "            print_board()\n",
    "            print(\"It's a tie!\")\n",
    "            break\n",
    "\n",
    "        print(\"Computer's move...\")\n",
    "        while True:\n",
    "            comp_move = random.randint(0, 8)\n",
    "            if board[comp_move] == \" \":\n",
    "                board[comp_move] = COMPUTER\n",
    "                break\n",
    "        if check_winner(COMPUTER):\n",
    "            print_board()\n",
    "            print(\"Computer wins!\")\n",
    "            break\n",
    "        if \" \" not in board:\n",
    "            print_board()\n",
    "            print(\"It's a tie!\")\n",
    "            break\n",
    "\n",
    "play_game()"
   ]
  },
  {
   "cell_type": "markdown",
   "id": "a4f3f7a9",
   "metadata": {},
   "source": [
    "# 1 gpt v2"
   ]
  },
  {
   "cell_type": "code",
   "execution_count": 4,
   "id": "cfbb1b0a",
   "metadata": {},
   "outputs": [
    {
     "name": "stdout",
     "output_type": "stream",
     "text": [
      "  |   |  \n",
      "  |   |  \n",
      "  |   |   \n",
      "\n",
      "Your move (0-8): 7\n",
      "  |   |  \n",
      "  |   | O\n",
      "  | X |   \n",
      "\n",
      "Your move (0-8): 5\n",
      "Invalid!\n",
      "  |   |  \n",
      "  |   | O\n",
      "  | X |   \n",
      "\n",
      "Your move (0-8): 6\n",
      "O |   |  \n",
      "  |   | O\n",
      "X | X |   \n",
      "\n",
      "Your move (0-8): 4\n",
      "O | O |  \n",
      "  | X | O\n",
      "X | X |   \n",
      "\n",
      "Your move (0-8): 3\n",
      "O | O | O\n",
      "X | X | O\n",
      "X | X |   \n",
      "\n",
      "Computer wins!\n"
     ]
    }
   ],
   "source": [
    "import random\n",
    "\n",
    "board = [\" \"] * 9\n",
    "PLAYER, COMPUTER = \"X\", \"O\"\n",
    "\n",
    "def show():\n",
    "    print(\"\\n\".join(\" | \".join(board[i:i+3]) for i in range(0, 9, 3)), \"\\n\")\n",
    "\n",
    "def win(p):\n",
    "    return any(board[a]==board[b]==board[c]==p for a,b,c in [(0,1,2),(3,4,5),(6,7,8),(0,3,6),(1,4,7),(2,5,8),(0,4,8),(2,4,6)])\n",
    "\n",
    "def game():\n",
    "    while True:\n",
    "        show()\n",
    "        m = int(input(\"Your move (0-8): \"))\n",
    "        if board[m] != \" \": print(\"Invalid!\"); continue\n",
    "        board[m] = PLAYER\n",
    "        if win(PLAYER): show(); print(\"You win!\"); break\n",
    "        if \" \" not in board: show(); print(\"It's a tie!\"); break\n",
    "\n",
    "        while True:\n",
    "            cm = random.randint(0,8)\n",
    "            if board[cm] == \" \":\n",
    "                board[cm] = COMPUTER\n",
    "                break\n",
    "        if win(COMPUTER): show(); print(\"Computer wins!\"); break\n",
    "        if \" \" not in board: show(); print(\"It's a tie!\"); break\n",
    "\n",
    "game()\n"
   ]
  },
  {
   "cell_type": "markdown",
   "id": "05c7edb7",
   "metadata": {},
   "source": [
    "# 2 og"
   ]
  },
  {
   "cell_type": "code",
   "execution_count": 5,
   "id": "5ab3c448",
   "metadata": {},
   "outputs": [
    {
     "name": "stdout",
     "output_type": "stream",
     "text": [
      "\n",
      "Enter the 8-puzzle configuration as 9 space-separated numbers (0 represents the empty space).\n",
      "Example: 1 2 3 4 5 6 7 8 0\n",
      "Your puzzle: 1 2 3 4 5 6 7 0 8\n",
      "Puzzle: [1, 2, 3, 4, 5, 6, 7, 0, 8] -> Solvable\n",
      "\n",
      " Do you want to test another puzzle ? (yes/no): no\n",
      "Exciting program. Goodbye!\n"
     ]
    }
   ],
   "source": [
    "def count_inversions(puzzle):\n",
    "    tiles=[tile for tile in puzzle if tile != 0]\n",
    "    inversions = sum(1 for i in range(len(tiles)) for j in range(i+1, len(tiles)) if tiles[i] > tiles[j])\n",
    "    return inversions\n",
    "\n",
    "def is_solvable(puzzle):\n",
    "    return count_inversions(puzzle) % 2 == 0\n",
    "\n",
    "def get_user_puzzle():\n",
    "    print(\"\\nEnter the 8-puzzle configuration as 9 space-separated numbers (0 represents the empty space).\")\n",
    "    user_input = input(\"Example: 1 2 3 4 5 6 7 8 0\\nYour puzzle: \")\n",
    "    puzzle = list(map(int, user_input.split()))\n",
    "    if len(puzzle) != 9 or set(puzzle) != set(range(9)):\n",
    "        print(\"Invalid input! Please enter numbers 0-8 exactly once.\")\n",
    "        return get_user_puzzle()\n",
    "    return puzzle\n",
    "\n",
    "def main():\n",
    "    while True:\n",
    "        puzzle = get_user_puzzle()\n",
    "        result = \"Solvable\" if is_solvable(puzzle) else \"Not Solvable\"\n",
    "        print(f\"Puzzle: {puzzle} -> {result}\")\n",
    "        again = input(\"\\n Do you want to test another puzzle ? (yes/no): \").strip().lower()\n",
    "        if again != 'yes' :\n",
    "              print(\"Exciting program. Goodbye!\")\n",
    "              break\n",
    "              \n",
    "main()"
   ]
  },
  {
   "cell_type": "markdown",
   "id": "5b7ef380",
   "metadata": {},
   "source": [
    "# 2 gpt"
   ]
  },
  {
   "cell_type": "code",
   "execution_count": 6,
   "id": "1e85a99d",
   "metadata": {},
   "outputs": [
    {
     "name": "stdout",
     "output_type": "stream",
     "text": [
      "Enter 9 numbers (0 to 8) separated by spaces: 2 1 3 4 5 0 6 7 8\n",
      "Not Solvable\n"
     ]
    }
   ],
   "source": [
    "def count_inversions(puzzle):\n",
    "    count = 0\n",
    "    for i in range(8):\n",
    "        for j in range(i + 1, 9):\n",
    "            if puzzle[i] != 0 and puzzle[j] != 0 and puzzle[i] > puzzle[j]:\n",
    "                count += 1\n",
    "    return count\n",
    "\n",
    "def is_solvable(puzzle):\n",
    "    inversions = count_inversions(puzzle)\n",
    "    return inversions % 2 == 0\n",
    "\n",
    "puzzle = list(map(int, input(\"Enter 9 numbers (0 to 8) separated by spaces: \").split()))\n",
    "\n",
    "if len(puzzle) != 9 or set(puzzle) != set(range(9)):\n",
    "    print(\"Invalid input! Use numbers 0 to 8 exactly once.\")\n",
    "else:\n",
    "    if is_solvable(puzzle):\n",
    "        print(\"Solvable\")\n",
    "    else:\n",
    "        print(\"Not Solvable\")\n"
   ]
  },
  {
   "cell_type": "markdown",
   "id": "7b2c9315",
   "metadata": {},
   "source": [
    "# 3 og"
   ]
  },
  {
   "cell_type": "code",
   "execution_count": 7,
   "id": "0f0d4e52",
   "metadata": {},
   "outputs": [
    {
     "name": "stdout",
     "output_type": "stream",
     "text": [
      "Enter number of people: 2\n",
      "Enter name: ri\n",
      "Enter income level (low/medium/high): low\n",
      "Enter credit score (poor/good): poor\n",
      "Are they employed? (yes/no): yes\n",
      "Enter name: ro\n",
      "Enter income level (low/medium/high): low\n",
      "Enter credit score (poor/good): poor\n",
      "Are they employed? (yes/no): no\n",
      "ri is elegible for loan: False\n",
      "ro is elegible for loan: False\n"
     ]
    }
   ],
   "source": [
    "people = {}\n",
    "\n",
    "def add_person():\n",
    "    name = input(\"Enter name: \")\n",
    "    income = input(\"Enter income level (low/medium/high): \")\n",
    "    credit_score = input(\"Enter credit score (poor/good): \")\n",
    "    employment = input(\"Are they employed? (yes/no): \")\n",
    "    people[name] = {\"income\": income, \"credit_score\": credit_score, \"employment\": employment}\n",
    "    \n",
    "def is_eligible(name, data):\n",
    "    person = data.get(name, {})\n",
    "    return (person.get(\"income\") == \"high\" or (person.get(\"credit_score\") == \"good\" and person.get(\"employement\") == \"yes\"))\n",
    "\n",
    "total_people = int(input(\"Enter number of people: \"))\n",
    "for _ in range(total_people):\n",
    "    add_person()\n",
    "for person in people:\n",
    "    print(f\"{person} is elegible for loan: {is_eligible(person, people)}\")"
   ]
  },
  {
   "cell_type": "markdown",
   "id": "b101daba",
   "metadata": {},
   "source": [
    "# 3 gpt"
   ]
  },
  {
   "cell_type": "code",
   "execution_count": 8,
   "id": "a16f58c8",
   "metadata": {},
   "outputs": [
    {
     "name": "stdout",
     "output_type": "stream",
     "text": [
      "How many people? 2\n",
      "Name: ri\n",
      "Income (low/medium/high): low\n",
      "Credit (poor/good): good\n",
      "Employed? (yes/no): no\n",
      "Name: ro\n",
      "Income (low/medium/high): low\n",
      "Credit (poor/good): good\n",
      "Employed? (yes/no): yes\n",
      "ri is eligible: False\n",
      "ro is eligible: True\n"
     ]
    }
   ],
   "source": [
    "people = {}\n",
    "\n",
    "n = int(input(\"How many people? \"))\n",
    "for _ in range(n):\n",
    "    name = input(\"Name: \")\n",
    "    income = input(\"Income (low/medium/high): \")\n",
    "    credit = input(\"Credit (poor/good): \")\n",
    "    job = input(\"Employed? (yes/no): \")\n",
    "    people[name] = (income, credit, job)\n",
    "\n",
    "for name, (income, credit, job) in people.items():\n",
    "    eligible = income == \"high\" or (credit == \"good\" and job == \"yes\")\n",
    "    print(f\"{name} is eligible: {eligible}\")"
   ]
  },
  {
   "cell_type": "markdown",
   "id": "a03101a9",
   "metadata": {},
   "source": [
    "# 4 original"
   ]
  },
  {
   "cell_type": "code",
   "execution_count": 9,
   "id": "5bb20eed",
   "metadata": {},
   "outputs": [
    {
     "name": "stdout",
     "output_type": "stream",
     "text": [
      "Find-S Hypothesis: ['Sunny', 'Warm', '?', 'Strong']\n"
     ]
    }
   ],
   "source": [
    "def find_s(data):\n",
    "    hypothesis = data[0].copy()[: -1]\n",
    "    for example in data:\n",
    "        if example[-1] == \"Positive\":\n",
    "            for i in range(len(hypothesis) -1):\n",
    "                if hypothesis[i] != example[i]:\n",
    "                    hypothesis[i] = \"?\"\n",
    "    return hypothesis\n",
    "\n",
    "data = [\n",
    "    ['Sunny', 'Warm', 'High', 'Strong', 'Positive'],\n",
    "    ['Sunny', 'Warm', 'High', 'Weak', 'Negative'],\n",
    "    ['Sunny', 'Warm', 'High', 'Strong', 'Positive'],\n",
    "    ['Rainy', 'Cold', 'High', 'Strong', 'Negative'],\n",
    "    ['Sunny', 'Warm', 'Low', 'Strong', 'Positive']\n",
    "    ]\n",
    "\n",
    "result = find_s(data)\n",
    "print(\"Find-S Hypothesis:\", result)"
   ]
  },
  {
   "cell_type": "markdown",
   "id": "45ad74a0",
   "metadata": {},
   "source": [
    "# 4 gpt"
   ]
  },
  {
   "cell_type": "code",
   "execution_count": 10,
   "id": "bb218358",
   "metadata": {},
   "outputs": [
    {
     "name": "stdout",
     "output_type": "stream",
     "text": [
      "Find-S Hypothesis: ['Sunny', 'Warm', '?', 'Strong']\n"
     ]
    }
   ],
   "source": [
    "data = [\n",
    "    ['Sunny', 'Warm', 'High', 'Strong', 'Positive'],\n",
    "    ['Sunny', 'Warm', 'High', 'Weak', 'Negative'],\n",
    "    ['Sunny', 'Warm', 'High', 'Strong', 'Positive'],\n",
    "    ['Rainy', 'Cold', 'High', 'Strong', 'Negative'],\n",
    "    ['Sunny', 'Warm', 'Low', 'Strong', 'Positive']\n",
    "]\n",
    "\n",
    "hypothesis = data[0][:-1]  # Start with the first positive example (excluding label)\n",
    "\n",
    "for row in data:\n",
    "    if row[-1] == \"Positive\":\n",
    "        for i in range(len(hypothesis)):\n",
    "            if hypothesis[i] != row[i]:\n",
    "                hypothesis[i] = \"?\"\n",
    "\n",
    "print(\"Find-S Hypothesis:\", hypothesis)"
   ]
  },
  {
   "cell_type": "markdown",
   "id": "70b780ec",
   "metadata": {},
   "source": [
    "# 8 original"
   ]
  },
  {
   "cell_type": "code",
   "execution_count": 11,
   "id": "ccd9762b",
   "metadata": {},
   "outputs": [
    {
     "name": "stdout",
     "output_type": "stream",
     "text": [
      "Candidate Elimination Specific Hypothesis: ['Sunny', 'Warm', '?', 'Strong']\n",
      "Candidate Elimination General Hypothesis: ['?', '?', '?', '?']\n"
     ]
    }
   ],
   "source": [
    "def candidate_elimination(data):\n",
    "    specific_hypothesis = data[0].copy()[: -1]\n",
    "    general_hypothesis = ['?']*(len(data[0]) -1)\n",
    "    for example in data:\n",
    "        if example[-1] == \"Positive\":\n",
    "            for i in range(len(specific_hypothesis)):\n",
    "                if specific_hypothesis[i] != example[i]:\n",
    "                    specific_hypothesis[i] = \"?\"\n",
    "        elif example[-1] == \"Negative\":\n",
    "            for i in range(len(general_hypothesis)):\n",
    "                if general_hypothesis[i] != example[i]:\n",
    "                    general_hypothesis[i] = \"?\"\n",
    "    return specific_hypothesis, general_hypothesis\n",
    "\n",
    "data = [\n",
    "    ['Sunny', 'Warm', 'High', 'Strong', 'Positive'],\n",
    "    ['Sunny', 'Warm', 'High', 'Weak', 'Negative'],\n",
    "    ['Sunny', 'Warm', 'High', 'Strong', 'Positive'],\n",
    "    ['Rainy', 'Cold', 'High', 'Strong', 'Negative'],\n",
    "    ['Sunny', 'Warm', 'Low', 'Strong', 'Positive']\n",
    "    ]\n",
    "\n",
    "specific, general = candidate_elimination(data)\n",
    "print(\"Candidate Elimination Specific Hypothesis:\" , specific)\n",
    "print(\"Candidate Elimination General Hypothesis:\" , general)"
   ]
  },
  {
   "cell_type": "markdown",
   "id": "6f87b72b",
   "metadata": {},
   "source": [
    "# 8 gpt"
   ]
  },
  {
   "cell_type": "code",
   "execution_count": 12,
   "id": "627adf81",
   "metadata": {},
   "outputs": [
    {
     "name": "stdout",
     "output_type": "stream",
     "text": [
      "Specific Hypothesis: ['Sunny', 'Warm', '?', 'Strong']\n",
      "General Hypothesis: ['?', '?', '?', '?']\n"
     ]
    }
   ],
   "source": [
    "data = [\n",
    "    ['Sunny', 'Warm', 'High', 'Strong', 'Positive'],\n",
    "    ['Sunny', 'Warm', 'High', 'Weak', 'Negative'],\n",
    "    ['Sunny', 'Warm', 'High', 'Strong', 'Positive'],\n",
    "    ['Rainy', 'Cold', 'High', 'Strong', 'Negative'],\n",
    "    ['Sunny', 'Warm', 'Low', 'Strong', 'Positive']\n",
    "]\n",
    "\n",
    "s = data[0][:-1]  # initial specific hypothesis\n",
    "g = ['?'] * len(s)  # most general hypothesis\n",
    "\n",
    "for row in data:\n",
    "    if row[-1] == \"Positive\":\n",
    "        for i in range(len(s)):\n",
    "            if s[i] != row[i]:\n",
    "                s[i] = \"?\"\n",
    "    else:\n",
    "        for i in range(len(g)):\n",
    "            if g[i] != row[i]:\n",
    "                g[i] = \"?\"\n",
    "\n",
    "print(\"Specific Hypothesis:\", s)\n",
    "print(\"General Hypothesis:\", g)"
   ]
  },
  {
   "cell_type": "markdown",
   "id": "b52203ab",
   "metadata": {},
   "source": [
    "# 5 original"
   ]
  },
  {
   "cell_type": "code",
   "execution_count": 15,
   "id": "2c7dd294",
   "metadata": {
    "scrolled": true
   },
   "outputs": [
    {
     "name": "stdout",
     "output_type": "stream",
     "text": [
      "Enter number of records: 2\n",
      "Enter Size, Cost: Small,Low\n",
      "Enter Size, Cost: Medium,Medium\n",
      "\n",
      " Decision Tree: {'Size': {'Medium': 'Compact SUV', 'Small': 'Hatchback'}}\n",
      "\n",
      " Enter Size, Cost: Medium,Medium\n",
      "\n",
      " Predicted Car Type: Compact SUV\n"
     ]
    }
   ],
   "source": [
    "\n",
    "def id3(data, attributes):\n",
    "    labels = [row[-1] for row in data]\n",
    "    return labels[0] if len(set(labels)) == 1 else {attributes[0]: {v: id3([r[1:] for r in data if r[0] == v], attributes[1:]) for v in set(r[0] for r in data)}}\n",
    "\n",
    "attributes = [\"Size\", \"Cost\"]\n",
    "mapping = {(\"Small\", \"Low\"): \"Hatchback\", (\"Medium\", \"Medium\"): \"Compact SUV\", (\"Big\", \"High\"): \"SUV\"}\n",
    "\n",
    "data = []\n",
    "for _ in range(int(input(\"Enter number of records: \"))): \n",
    "    size, cost = input(\"Enter Size, Cost: \").split(\",\")\n",
    "    data.append([size, cost, mapping.get((size, cost), \"Unknown\")])\n",
    "\n",
    "tree = id3(data, attributes)\n",
    "print(\"\\n Decision Tree:\", tree)\n",
    "\n",
    "def predict(tree, attributes, user_input):\n",
    "    if not isinstance(tree, dict): return tree\n",
    "    attr = next(iter(tree))\n",
    "    return predict(tree[attr].get(user_input[attributes.index(attr)], \"Unknown\"), attributes, user_input)\n",
    "\n",
    "user_input = input(\"\\n Enter Size, Cost: \").split(\",\")\n",
    "print(\"\\n Predicted Car Type:\", predict(tree, attributes, user_input)) "
   ]
  },
  {
   "cell_type": "markdown",
   "id": "1d5b0343",
   "metadata": {},
   "source": [
    "# 5 gpt 1"
   ]
  },
  {
   "cell_type": "code",
   "execution_count": 16,
   "id": "3044da66",
   "metadata": {},
   "outputs": [
    {
     "name": "stdout",
     "output_type": "stream",
     "text": [
      "Enter Size and Cost (e.g., Small,Low): Small,Low\n",
      "Predicted Car Type: Hatchback\n"
     ]
    }
   ],
   "source": [
    "# Dataset: (Size, Cost) -> Car Type\n",
    "def predict(size, cost):\n",
    "    if size == \"Small\" and cost == \"Low\":\n",
    "        return \"Hatchback\"\n",
    "    elif size == \"Medium\" and cost == \"Medium\":\n",
    "        return \"Compact SUV\"\n",
    "    elif size == \"Big\" and cost == \"High\":\n",
    "        return \"SUV\"\n",
    "    else:\n",
    "        return \"Unknown\"\n",
    "\n",
    "# Input\n",
    "size, cost = input(\"Enter Size and Cost (e.g., Small,Low): \").split(\",\")\n",
    "\n",
    "# Output\n",
    "print(\"Predicted Car Type:\", predict(size.strip(), cost.strip()))\n"
   ]
  },
  {
   "cell_type": "markdown",
   "id": "e593ae61",
   "metadata": {},
   "source": [
    "# 5 gpt 2"
   ]
  },
  {
   "cell_type": "code",
   "execution_count": 1,
   "id": "7c6de955",
   "metadata": {},
   "outputs": [
    {
     "name": "stdout",
     "output_type": "stream",
     "text": [
      "Enter number of records: 3\n",
      "Enter Size, Cost: Small,Low\n",
      "Enter Size, Cost: Medium,Medium\n",
      "Enter Size, Cost: Big,High\n",
      "\n",
      "Decision Tree: {'Size': {'Small': {'Cost': {'Low': 'Hatchback'}}, 'Medium': {'Cost': {'Medium': 'Compact SUV'}}, 'Big': {'Cost': {'High': 'SUV'}}}}\n",
      "\n",
      "Enter Size, Cost: Big,High\n",
      "\n",
      "Predicted Car Type: SUV\n"
     ]
    }
   ],
   "source": [
    "def build_tree(data):\n",
    "    size_map = {}\n",
    "    for size, cost, car in data:\n",
    "        size_map.setdefault(size, {})[cost] = car\n",
    "    return {\"Size\": {s: {\"Cost\": c_map} for s, c_map in size_map.items()}}\n",
    "\n",
    "def predict(tree, size, cost):\n",
    "    return tree[\"Size\"].get(size, {}).get(\"Cost\", {}).get(cost, \"Unknown\")\n",
    "\n",
    "mapping = {\n",
    "    (\"Small\", \"Low\"): \"Hatchback\",\n",
    "    (\"Medium\", \"Medium\"): \"Compact SUV\",\n",
    "    (\"Big\", \"High\"): \"SUV\"\n",
    "}\n",
    "\n",
    "data = []\n",
    "n = int(input(\"Enter number of records: \"))\n",
    "for _ in range(n):\n",
    "    s, c = input(\"Enter Size, Cost: \").split(\",\")\n",
    "    data.append([s.strip(), c.strip(), mapping.get((s.strip(), c.strip()), \"Unknown\")])\n",
    "\n",
    "tree = build_tree(data)\n",
    "print(\"\\nDecision Tree:\", tree)\n",
    "\n",
    "s, c = input(\"\\nEnter Size, Cost: \").split(\",\")\n",
    "print(\"\\nPredicted Car Type:\", predict(tree, s.strip(), c.strip()))"
   ]
  },
  {
   "cell_type": "markdown",
   "id": "c93925d4",
   "metadata": {},
   "source": [
    "# 5 gpt 3"
   ]
  },
  {
   "cell_type": "code",
   "execution_count": 1,
   "id": "7f185277",
   "metadata": {},
   "outputs": [
    {
     "name": "stdout",
     "output_type": "stream",
     "text": [
      "Enter number of records: 3\n",
      "Enter Size, Cost: Small,Low\n",
      "Enter Size, Cost: Medium,Medium\n",
      "Enter Size, Cost: Big,High\n",
      "\n",
      "Decision Tree: {'Size': {'Small': 'Hatchback', 'Medium': 'Compact SUV', 'Big': 'SUV'}}\n",
      "\n",
      "Enter Size, Cost: Small,Low\n",
      "\n",
      "Predicted Car Type: Hatchback\n"
     ]
    }
   ],
   "source": [
    "# Mapping from (Size, Cost) to Car Type\n",
    "mapping = {\n",
    "    (\"Small\", \"Low\"): \"Hatchback\",\n",
    "    (\"Medium\", \"Medium\"): \"Compact SUV\",\n",
    "    (\"Big\", \"High\"): \"SUV\"\n",
    "}\n",
    "\n",
    "# Collect training data\n",
    "data = []\n",
    "for _ in range(int(input(\"Enter number of records: \"))):\n",
    "    s, c = input(\"Enter Size, Cost: \").split(\",\")\n",
    "    s, c = s.strip(), c.strip()\n",
    "    data.append((s, mapping.get((s, c), \"Unknown\")))\n",
    "\n",
    "# Build tree using only Size\n",
    "tree = {\"Size\": {s: label for s, label in data}}\n",
    "print(\"\\nDecision Tree:\", tree)\n",
    "\n",
    "# Prediction\n",
    "s, c = input(\"\\nEnter Size, Cost: \").split(\",\")\n",
    "s, c = s.strip(), c.strip()\n",
    "print(\"\\nPredicted Car Type:\", tree[\"Size\"].get(s, \"Unknown\"))\n"
   ]
  },
  {
   "cell_type": "markdown",
   "id": "d0dc2315",
   "metadata": {},
   "source": [
    "# 6 og"
   ]
  },
  {
   "cell_type": "code",
   "execution_count": 2,
   "id": "ed9b3618",
   "metadata": {},
   "outputs": [
    {
     "data": {
      "image/png": "[encoded data removed]",
      "text/plain": [
       "<Figure size 640x480 with 1 Axes>"
      ]
     },
     "metadata": {},
     "output_type": "display_data"
    }
   ],
   "source": [
    "import numpy as np\n",
    "import matplotlib.pyplot as plt\n",
    "from sklearn.datasets import make_classification\n",
    "from sklearn.tree import DecisionTreeClassifier\n",
    "from sklearn.model_selection import train_test_split\n",
    "from sklearn.metrics import accuracy_score\n",
    "\n",
    "X, y = make_classification(n_samples=1000, n_features=10, n_informative=5, n_redundant=2, random_state=42)\n",
    "X_train, X_test, y_train, y_test = train_test_split(X, y, test_size=0.3, random_state=42)\n",
    "\n",
    "depths = range(1, 21)\n",
    "train_accuracies, test_accuracies = zip(*[\n",
    "    (accuracy_score(y_train, \n",
    "DecisionTreeClassifier(criterion='entropy', max_depth=d, \n",
    "random_state=42).fit(X_train, y_train).predict(X_train)), \n",
    "     accuracy_score(y_test,\n",
    "DecisionTreeClassifier(criterion='entropy', max_depth=d, \n",
    "random_state=42).fit(X_train, y_train).predict(X_test))) \n",
    "    for d in depths\n",
    "])\n",
    "\n",
    "plt.plot(depths, train_accuracies, label= 'Training Accuracy', marker= 'o')\n",
    "plt.plot(depths, test_accuracies, label= 'Testing Accuracy', marker= 's')\n",
    "plt.xlabel('Tree Depth')\n",
    "plt.ylabel('Accuracy')\n",
    "plt.title('ID3 Decision Tree Performance')\n",
    "plt.legend()\n",
    "plt.show()"
   ]
  },
  {
   "cell_type": "markdown",
   "id": "ac0a5511",
   "metadata": {},
   "source": [
    "# 6 gpt 1"
   ]
  },
  {
   "cell_type": "code",
   "execution_count": 3,
   "id": "7be76a63",
   "metadata": {},
   "outputs": [
    {
     "data": {
      "image/png": "[encoded data removed]",
      "text/plain": [
       "<Figure size 640x480 with 1 Axes>"
      ]
     },
     "metadata": {},
     "output_type": "display_data"
    }
   ],
   "source": [
    "from sklearn.datasets import make_classification\n",
    "from sklearn.tree import DecisionTreeClassifier\n",
    "from sklearn.model_selection import train_test_split\n",
    "from sklearn.metrics import accuracy_score\n",
    "import matplotlib.pyplot as plt\n",
    "\n",
    "X, y = make_classification(n_samples=1000, n_features=10, n_informative=5, n_redundant=2, random_state=42)\n",
    "X_train, X_test, y_train, y_test = train_test_split(X, y, test_size=0.3, random_state=42)\n",
    "\n",
    "depths = range(1, 21)\n",
    "train_acc = []\n",
    "test_acc = []\n",
    "\n",
    "for d in depths:\n",
    "    clf = DecisionTreeClassifier(criterion='entropy', max_depth=d).fit(X_train, y_train)\n",
    "    train_acc.append(clf.score(X_train, y_train))\n",
    "    test_acc.append(clf.score(X_test, y_test))\n",
    "\n",
    "plt.plot(depths, train_acc, label='Train', marker='o')\n",
    "plt.plot(depths, test_acc, label='Test', marker='s')\n",
    "plt.xlabel(\"Depth\")\n",
    "plt.ylabel(\"Accuracy\")\n",
    "plt.title(\"ID3 Accuracy vs Tree Depth\")\n",
    "plt.legend()\n",
    "plt.show()"
   ]
  },
  {
   "cell_type": "markdown",
   "id": "fadef45a",
   "metadata": {},
   "source": [
    "# 6 gpt 2"
   ]
  },
  {
   "cell_type": "code",
   "execution_count": 2,
   "id": "99a7d389",
   "metadata": {},
   "outputs": [
    {
     "data": {
      "image/png": "[encoded data removed]",
      "text/plain": [
       "<Figure size 640x480 with 1 Axes>"
      ]
     },
     "metadata": {},
     "output_type": "display_data"
    }
   ],
   "source": [
    "import numpy as np\n",
    "import matplotlib.pyplot as plt\n",
    "from sklearn.datasets import make_classification\n",
    "from sklearn.tree import DecisionTreeClassifier\n",
    "from sklearn.model_selection import train_test_split\n",
    "from sklearn.metrics import accuracy_score\n",
    "\n",
    "X, y = make_classification(n_samples=1000, n_features=10, n_informative=5, n_redundant=2, random_state=42)\n",
    "X_train, X_test, y_train, y_test = train_test_split(X, y, test_size=0.3, random_state=42)\n",
    "\n",
    "depths = range(1, 21)\n",
    "train_acc = []\n",
    "test_acc = []\n",
    "\n",
    "for d in depths:\n",
    "    train_model = DecisionTreeClassifier(criterion='entropy', max_depth=d, random_state=42).fit(X_train, y_train)\n",
    "    test_model = DecisionTreeClassifier(criterion='entropy', max_depth=d, random_state=42).fit(X_train, y_train)\n",
    "    train_acc.append(accuracy_score(y_train, train_model.predict(X_train)))\n",
    "    test_acc.append(accuracy_score(y_test, test_model.predict(X_test)))\n",
    "\n",
    "plt.plot(depths, train_acc, label='Training Accuracy', marker='o')\n",
    "plt.plot(depths, test_acc, label='Testing Accuracy', marker='s')\n",
    "plt.xlabel(\"Tree Depth\")\n",
    "plt.ylabel(\"Accuracy\")\n",
    "plt.title(\"ID3 Decision Tree Performance\")\n",
    "plt.legend()\n",
    "plt.show()\n"
   ]
  },
  {
   "cell_type": "markdown",
   "id": "653986d9",
   "metadata": {},
   "source": [
    "# 9 og"
   ]
  },
  {
   "cell_type": "code",
   "execution_count": 4,
   "id": "abe85078",
   "metadata": {},
   "outputs": [
    {
     "name": "stdout",
     "output_type": "stream",
     "text": [
      "Mean Squared Error: 0.5558915986952442\n",
      "R2 (Coefficient of Determination): 0.575787706032451\n"
     ]
    }
   ],
   "source": [
    "from sklearn.datasets import fetch_california_housing\n",
    "from sklearn.model_selection import train_test_split\n",
    "from sklearn.linear_model import LinearRegression\n",
    "from sklearn.metrics import mean_squared_error, r2_score\n",
    "from sklearn.preprocessing import StandardScaler\n",
    "\n",
    "data = fetch_california_housing()\n",
    "X,y = data.data, data.target\n",
    "\n",
    "scaler = StandardScaler()\n",
    "X_scaled = scaler.fit_transform(X)\n",
    "\n",
    "X_train, X_test, y_train, y_test = train_test_split(X_scaled, y, test_size=0.2, random_state=42)\n",
    "\n",
    "model = LinearRegression()\n",
    "model.fit(X_train, y_train)\n",
    "\n",
    "y_pred = model.predict(X_test)\n",
    "\n",
    "mse = mean_squared_error(y_test, y_pred)\n",
    "r2 = r2_score(y_test, y_pred)\n",
    "\n",
    "print(f'Mean Squared Error: {mse}')\n",
    "print(f'R2 (Coefficient of Determination): {r2}')"
   ]
  },
  {
   "cell_type": "markdown",
   "id": "e0977482",
   "metadata": {},
   "source": [
    "# 9 chatgpt"
   ]
  },
  {
   "cell_type": "code",
   "execution_count": 5,
   "id": "b37cf216",
   "metadata": {},
   "outputs": [
    {
     "name": "stdout",
     "output_type": "stream",
     "text": [
      "MSE: 0.5558915986952442\n",
      "R²: 0.575787706032451\n"
     ]
    }
   ],
   "source": [
    "from sklearn.datasets import fetch_california_housing\n",
    "from sklearn.linear_model import LinearRegression\n",
    "from sklearn.model_selection import train_test_split\n",
    "from sklearn.metrics import mean_squared_error, r2_score\n",
    "from sklearn.preprocessing import StandardScaler\n",
    "\n",
    "X, y = fetch_california_housing(return_X_y=True)\n",
    "\n",
    "X = StandardScaler().fit_transform(X)\n",
    "X_train, X_test, y_train, y_test = train_test_split(X, y, test_size=0.2, random_state=42)\n",
    "\n",
    "model = LinearRegression().fit(X_train, y_train)\n",
    "y_pred = model.predict(X_test)\n",
    "\n",
    "print(\"MSE:\", mean_squared_error(y_test, y_pred))\n",
    "print(\"R²:\", r2_score(y_test, y_pred))"
   ]
  },
  {
   "cell_type": "markdown",
   "id": "14d78802",
   "metadata": {},
   "source": [
    "# 10 og"
   ]
  },
  {
   "cell_type": "code",
   "execution_count": 1,
   "id": "b3bd4fe7",
   "metadata": {},
   "outputs": [
    {
     "name": "stdout",
     "output_type": "stream",
     "text": [
      "Binary Classification Report (0vs 1):\n",
      "              precision    recall  f1-score   support\n",
      "\n",
      "           0       1.00      1.00      1.00      1343\n",
      "           1       1.00      1.00      1.00      1600\n",
      "\n",
      "    accuracy                           1.00      2943\n",
      "   macro avg       1.00      1.00      1.00      2943\n",
      "weighted avg       1.00      1.00      1.00      2943\n",
      "\n",
      "\n",
      "Multiclass Classification Report:\n",
      "              precision    recall  f1-score   support\n",
      "\n",
      "           0       0.95      0.97      0.96      1343\n",
      "           1       0.94      0.97      0.95      1600\n",
      "           2       0.91      0.90      0.91      1380\n",
      "           3       0.90      0.89      0.89      1433\n",
      "           4       0.91      0.92      0.92      1295\n",
      "           5       0.88      0.88      0.88      1273\n",
      "           6       0.94      0.95      0.95      1396\n",
      "           7       0.93      0.94      0.93      1503\n",
      "           8       0.89      0.85      0.87      1357\n",
      "           9       0.90      0.88      0.89      1420\n",
      "\n",
      "    accuracy                           0.92     14000\n",
      "   macro avg       0.92      0.92      0.92     14000\n",
      "weighted avg       0.92      0.92      0.92     14000\n",
      "\n"
     ]
    },
    {
     "data": {
      "image/png": "[encoded data removed]",
      "text/plain": [
       "<Figure size 640x480 with 2 Axes>"
      ]
     },
     "metadata": {},
     "output_type": "display_data"
    }
   ],
   "source": [
    "import numpy as np\n",
    "from sklearn.datasets import fetch_openml\n",
    "from sklearn.model_selection import train_test_split\n",
    "from sklearn.linear_model import LogisticRegression\n",
    "from sklearn.metrics import classification_report,confusion_matrix\n",
    "import matplotlib.pyplot as plt\n",
    "\n",
    "mnist=fetch_openml('mnist_784',version=1, parser='auto')\n",
    "x,y=mnist.data/255.0,mnist.target.astype(int)\n",
    "\n",
    "x_train,x_test,y_train,y_test=train_test_split(x,y,test_size=0.2,random_state=42)\n",
    "\n",
    "binary_mask_train=(y_train==0)|(y_train==1)\n",
    "binary_mask_test=(y_test==0)|(y_test==1)\n",
    "\n",
    "x_train_bin,y_train_bin=x_train[binary_mask_train],y_train[binary_mask_train]\n",
    "x_test_bin,y_test_bin=x_test[binary_mask_test],y_test[binary_mask_test]\n",
    "\n",
    "model_bin=LogisticRegression(max_iter=1000).fit(x_train_bin,y_train_bin)\n",
    "\n",
    "y_pred_bin=model_bin.predict(x_test_bin)\n",
    "print(\"Binary Classification Report (0vs 1):\")\n",
    "print(classification_report(y_test_bin,y_pred_bin))\n",
    "\n",
    "model_multi=LogisticRegression(max_iter=1000,multi_class='ovr').fit(x_train,y_train)\n",
    "y_pred_multi=model_multi.predict(x_test)\n",
    "print(\"\\nMulticlass Classification Report:\")\n",
    "print(classification_report(y_test,y_pred_multi))\n",
    "\n",
    "conf_matrix=confusion_matrix(y_test,y_pred_multi)\n",
    "plt.imshow(conf_matrix,cmap=\"Blues\",interpolation='nearest')\n",
    "plt.colorbar()\n",
    "plt.title(\"Confusion Matrix\")\n",
    "plt.xlabel('True label')\n",
    "plt.ylabel('Predicted label')\n",
    "plt.show()"
   ]
  },
  {
   "cell_type": "markdown",
   "id": "992c569b",
   "metadata": {},
   "source": [
    "# 10 chatgpt"
   ]
  },
  {
   "cell_type": "code",
   "execution_count": 2,
   "id": "c35b0c47",
   "metadata": {},
   "outputs": [
    {
     "name": "stdout",
     "output_type": "stream",
     "text": [
      "Binary (0 vs 1):\n",
      "               precision    recall  f1-score   support\n",
      "\n",
      "           0       1.00      1.00      1.00      1343\n",
      "           1       1.00      1.00      1.00      1600\n",
      "\n",
      "    accuracy                           1.00      2943\n",
      "   macro avg       1.00      1.00      1.00      2943\n",
      "weighted avg       1.00      1.00      1.00      2943\n",
      "\n",
      "Multiclass:\n",
      "               precision    recall  f1-score   support\n",
      "\n",
      "           0       0.95      0.97      0.96      1343\n",
      "           1       0.94      0.97      0.95      1600\n",
      "           2       0.91      0.90      0.91      1380\n",
      "           3       0.90      0.89      0.89      1433\n",
      "           4       0.91      0.92      0.92      1295\n",
      "           5       0.88      0.88      0.88      1273\n",
      "           6       0.94      0.95      0.95      1396\n",
      "           7       0.93      0.94      0.93      1503\n",
      "           8       0.89      0.85      0.87      1357\n",
      "           9       0.90      0.88      0.89      1420\n",
      "\n",
      "    accuracy                           0.92     14000\n",
      "   macro avg       0.92      0.92      0.92     14000\n",
      "weighted avg       0.92      0.92      0.92     14000\n",
      "\n"
     ]
    },
    {
     "data": {
      "image/png": "[encoded data removed]",
      "text/plain": [
       "<Figure size 640x480 with 1 Axes>"
      ]
     },
     "metadata": {},
     "output_type": "display_data"
    }
   ],
   "source": [
    "from sklearn.datasets import fetch_openml\n",
    "from sklearn.linear_model import LogisticRegression\n",
    "from sklearn.model_selection import train_test_split\n",
    "from sklearn.metrics import classification_report, confusion_matrix\n",
    "import matplotlib.pyplot as plt\n",
    "\n",
    "X, y = fetch_openml('mnist_784', version=1, parser='auto', as_frame=False, return_X_y=True)\n",
    "X, y = X / 255.0, y.astype(int)\n",
    "X_train, X_test, y_train, y_test = train_test_split(X, y, test_size=0.2, random_state=42)\n",
    "\n",
    "# Binary classification (0 vs 1)\n",
    "b_train = y_train <= 1\n",
    "b_test = y_test <= 1\n",
    "model_bin = LogisticRegression(max_iter=1000).fit(X_train[b_train], y_train[b_train])\n",
    "print(\"Binary (0 vs 1):\\n\", classification_report(y_test[b_test], model_bin.predict(X_test[b_test])))\n",
    "\n",
    "# Multiclass classification\n",
    "model_all = LogisticRegression(max_iter=1000, multi_class='ovr').fit(X_train, y_train)\n",
    "print(\"Multiclass:\\n\", classification_report(y_test, model_all.predict(X_test)))\n",
    "\n",
    "# Confusion matrix\n",
    "plt.imshow(confusion_matrix(y_test, model_all.predict(X_test)), cmap=\"Blues\")\n",
    "plt.title(\"Confusion Matrix\")\n",
    "plt.show()"
   ]
  },
  {
   "cell_type": "markdown",
   "id": "f761ffa8",
   "metadata": {},
   "source": [
    "# 10 chatgpt 2"
   ]
  },
  {
   "cell_type": "code",
   "execution_count": 3,
   "id": "ac6a54ba",
   "metadata": {},
   "outputs": [
    {
     "name": "stdout",
     "output_type": "stream",
     "text": [
      "Binary Classification Report (0 vs 1):\n",
      "              precision    recall  f1-score   support\n",
      "\n",
      "           0       1.00      1.00      1.00      1343\n",
      "           1       1.00      1.00      1.00      1600\n",
      "\n",
      "    accuracy                           1.00      2943\n",
      "   macro avg       1.00      1.00      1.00      2943\n",
      "weighted avg       1.00      1.00      1.00      2943\n",
      "\n",
      "\n",
      "Multiclass Classification Report:\n",
      "              precision    recall  f1-score   support\n",
      "\n",
      "           0       0.95      0.97      0.96      1343\n",
      "           1       0.94      0.97      0.95      1600\n",
      "           2       0.91      0.90      0.91      1380\n",
      "           3       0.90      0.89      0.89      1433\n",
      "           4       0.91      0.92      0.92      1295\n",
      "           5       0.88      0.88      0.88      1273\n",
      "           6       0.94      0.95      0.95      1396\n",
      "           7       0.93      0.94      0.93      1503\n",
      "           8       0.89      0.85      0.87      1357\n",
      "           9       0.90      0.88      0.89      1420\n",
      "\n",
      "    accuracy                           0.92     14000\n",
      "   macro avg       0.92      0.92      0.92     14000\n",
      "weighted avg       0.92      0.92      0.92     14000\n",
      "\n"
     ]
    },
    {
     "data": {
      "image/png": "[encoded data removed]",
      "text/plain": [
       "<Figure size 640x480 with 2 Axes>"
      ]
     },
     "metadata": {},
     "output_type": "display_data"
    }
   ],
   "source": [
    "from sklearn.datasets import fetch_openml\n",
    "from sklearn.linear_model import LogisticRegression\n",
    "from sklearn.model_selection import train_test_split\n",
    "from sklearn.metrics import classification_report, confusion_matrix\n",
    "import matplotlib.pyplot as plt\n",
    "\n",
    "x, y = fetch_openml('mnist_784', version=1, parser='auto', as_frame=False, return_X_y=True)\n",
    "x, y = x / 255.0, y.astype(int)\n",
    "xtr, xte, ytr, yte = train_test_split(x, y, test_size=0.2, random_state=42)\n",
    "\n",
    "# Binary classification (0 vs 1)\n",
    "btr = (ytr < 2); bte = (yte < 2)\n",
    "m1 = LogisticRegression(max_iter=1000).fit(xtr[btr], ytr[btr])\n",
    "print(\"Binary Classification Report (0 vs 1):\")\n",
    "print(classification_report(yte[bte], m1.predict(xte[bte])))\n",
    "\n",
    "# Multiclass classification\n",
    "m2 = LogisticRegression(max_iter=1000, multi_class='ovr').fit(xtr, ytr)\n",
    "print(\"\\nMulticlass Classification Report:\")\n",
    "yp = m2.predict(xte)\n",
    "print(classification_report(yte, yp))\n",
    "\n",
    "# Confusion matrix\n",
    "plt.imshow(confusion_matrix(yte, yp), cmap=\"Blues\")\n",
    "plt.title(\"Confusion Matrix\"); plt.xlabel(\"True\"); plt.ylabel(\"Predicted\")\n",
    "plt.colorbar(); plt.show()\n"
   ]
  },
  {
   "cell_type": "markdown",
   "id": "f14ef19e",
   "metadata": {},
   "source": [
    "# 7 a og"
   ]
  },
  {
   "cell_type": "code",
   "execution_count": 15,
   "id": "8cb32427",
   "metadata": {},
   "outputs": [
    {
     "name": "stdout",
     "output_type": "stream",
     "text": [
      "SVM Accuracy:  0.88\n",
      "KMeans Accuracy:  0.42\n"
     ]
    }
   ],
   "source": [
    "#Implementing Supervised and Unsupervised Learning\n",
    "import numpy as np\n",
    "import matplotlib.pyplot as plt\n",
    "from sklearn.datasets import make_classification\n",
    "from sklearn.model_selection import train_test_split\n",
    "from sklearn.svm import SVC\n",
    "from sklearn.cluster import KMeans\n",
    "from sklearn.metrics import accuracy_score\n",
    "\n",
    "X, y = make_classification(n_samples=200, n_features=4, n_classes=2, random_state=42)\n",
    "X_train, X_test, y_train, y_test = train_test_split(X, y, test_size=0.3, random_state=42)\n",
    "\n",
    "svm = SVC(kernel='linear', probability=True)\n",
    "svm.fit(X_train, y_train)\n",
    "svm_accuracy = accuracy_score(y_test, svm.predict(X_test))\n",
    "print(f\"SVM Accuracy: {svm_accuracy: .2f}\")\n",
    "\n",
    "kmeans = KMeans(n_clusters=2, n_init=10, random_state=42)\n",
    "kmeans_accuracy = accuracy_score(y_test, kmeans.fit_predict(X_test))\n",
    "print(f\"KMeans Accuracy: {kmeans_accuracy: .2f}\")"
   ]
  },
  {
   "cell_type": "markdown",
   "id": "02f091fa",
   "metadata": {},
   "source": [
    "# 7a chatgpt"
   ]
  },
  {
   "cell_type": "code",
   "execution_count": 6,
   "id": "4c656081",
   "metadata": {},
   "outputs": [
    {
     "name": "stdout",
     "output_type": "stream",
     "text": [
      "SVM Accuracy: 0.88\n",
      "KMeans Accuracy: 0.42\n"
     ]
    }
   ],
   "source": [
    "#Implementing Supervised and Unsupervised Learning\n",
    "from sklearn.datasets import make_classification\n",
    "from sklearn.model_selection import train_test_split\n",
    "from sklearn.svm import SVC\n",
    "from sklearn.cluster import KMeans\n",
    "from sklearn.metrics import accuracy_score\n",
    "\n",
    "X, y = make_classification(200, 4, n_classes=2, random_state=42)\n",
    "X_train, X_test, y_train, y_test = train_test_split(X, y, test_size=0.3, random_state=42)\n",
    "\n",
    "svm = SVC(kernel='linear').fit(X_train, y_train)\n",
    "print(f\"SVM Accuracy: {accuracy_score(y_test, svm.predict(X_test)):.2f}\")\n",
    "\n",
    "kmeans = KMeans(n_clusters=2, n_init=10, random_state=42).fit(X_test)\n",
    "print(f\"KMeans Accuracy: {accuracy_score(y_test, kmeans.labels_):.2f}\")"
   ]
  },
  {
   "cell_type": "markdown",
   "id": "d0edaf1e",
   "metadata": {},
   "source": [
    "# 7b og"
   ]
  },
  {
   "cell_type": "code",
   "execution_count": 7,
   "id": "d4e2186d",
   "metadata": {},
   "outputs": [
    {
     "name": "stdout",
     "output_type": "stream",
     "text": [
      "Semi-supervised Accuracy:  0.93\n",
      "Reinforcement Accuracy:  0.62\n"
     ]
    }
   ],
   "source": [
    "#Implementing Semi-supervised and Reinforcement Learning\n",
    "import numpy as np\n",
    "import matplotlib.pyplot as plt\n",
    "from sklearn.datasets import make_classification\n",
    "from sklearn.model_selection import train_test_split\n",
    "from sklearn.svm import SVC\n",
    "from sklearn.semi_supervised import SelfTrainingClassifier\n",
    "import random\n",
    "from sklearn.metrics import accuracy_score\n",
    "\n",
    "X, y = make_classification(n_samples=200, n_features=4, n_classes=2, random_state=42)\n",
    "X_train, X_test, y_train, y_test = train_test_split(X, y, test_size=0.3, random_state=42)\n",
    "\n",
    "y_train_semi = np.copy(y_train)\n",
    "y_train_semi[np.random.rand(len(y_train_semi)) < 0.3] = -1\n",
    "semi_supervised = SelfTrainingClassifier(SVC(kernel='linear', probability=True))\n",
    "semi_supervised.fit(X_train, y_train_semi)\n",
    "print(f\"Semi-supervised Accuracy: {accuracy_score(y_test, semi_supervised.predict(X_test)): .2f}\")\n",
    "\n",
    "actions = [random.choice([0,1]) for _ in range(len(X_test))]\n",
    "print(f\"Reinforcement Accuracy: {accuracy_score(y_test, actions): .2f}\")"
   ]
  },
  {
   "cell_type": "markdown",
   "id": "ea8de861",
   "metadata": {},
   "source": [
    "# 7b chatgpt"
   ]
  },
  {
   "cell_type": "code",
   "execution_count": 16,
   "id": "662438f7",
   "metadata": {},
   "outputs": [
    {
     "name": "stdout",
     "output_type": "stream",
     "text": [
      "Semi-supervised Accuracy: 0.87\n",
      "Reinforcement Accuracy: 0.63\n"
     ]
    }
   ],
   "source": [
    "from sklearn.datasets import make_classification\n",
    "from sklearn.model_selection import train_test_split\n",
    "from sklearn.svm import SVC\n",
    "from sklearn.semi_supervised import SelfTrainingClassifier\n",
    "from sklearn.metrics import accuracy_score\n",
    "import numpy as np\n",
    "import random\n",
    "\n",
    "X,y=make_classification(n_samples=200,n_features=4,n_classes=2,random_state=42)\n",
    "Xt,Xv,yt,yv=train_test_split(X,y,test_size=0.3,random_state=42)\n",
    "\n",
    "yt_semi=yt.copy()\n",
    "yt_semi[np.random.rand(len(yt_semi))<0.3]=-1\n",
    "\n",
    "clf=SelfTrainingClassifier(SVC(kernel='linear',probability=True))\n",
    "clf.fit(Xt,yt_semi)\n",
    "print(f\"Semi-supervised Accuracy: {accuracy_score(yv,clf.predict(Xv)):.2f}\")\n",
    "\n",
    "actions=[random.choice([0,1]) for _ in range(len(Xv))]\n",
    "print(f\"Reinforcement Accuracy: {accuracy_score(yv,actions):.2f}\")"
   ]
  },
  {
   "cell_type": "code",
   "execution_count": null,
   "id": "721d167d",
   "metadata": {},
   "outputs": [],
   "source": []
  }
 ],
 "metadata": {
  "kernelspec": {
   "display_name": "Python 3 (ipykernel)",
   "language": "python",
   "name": "python3"
  },
  "language_info": {
   "codemirror_mode": {
    "name": "ipython",
    "version": 3
   },
   "file_extension": ".py",
   "mimetype": "text/x-python",
   "name": "python",
   "nbconvert_exporter": "python",
   "pygments_lexer": "ipython3",
   "version": "3.10.9"
  }
 },
 "nbformat": 4,
 "nbformat_minor": 5
}
